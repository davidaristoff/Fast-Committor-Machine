{
 "cells": [
  {
   "cell_type": "markdown",
   "metadata": {},
   "source": [
    "# Overview\n",
    "Compute the committor using FEM methods for the triple well problem.  This code requires\n",
    "* FEniCSx (checked with versino 0.7.3) with PETSc and MPI\n",
    "* gmsh\n",
    "* NumPy/SciPy/Matplotlib"
   ]
  },
  {
   "cell_type": "code",
   "execution_count": null,
   "metadata": {},
   "outputs": [],
   "source": [
    "import gmsh\n",
    "import numpy as np\n",
    "from matplotlib import pyplot as plt\n",
    "from dolfinx.io import gmshio\n",
    "from dolfinx.fem.petsc import LinearProblem\n",
    "from mpi4py import MPI\n",
    "from dolfinx import fem\n",
    "from dolfinx.plot import vtk_mesh\n",
    "import pyvista\n",
    "from dolfinx import default_scalar_type\n",
    "import ufl\n",
    "import dolfinx\n",
    "dolfinx.__version__\n",
    "from petsc4py import PETSc\n",
    "import scipy.sparse\n",
    "import scipy.sparse.linalg\n",
    "from dolfinx import geometry\n",
    "import scipy.io"
   ]
  },
  {
   "cell_type": "markdown",
   "metadata": {},
   "source": [
    "# Setup Potential and Sets"
   ]
  },
  {
   "cell_type": "code",
   "execution_count": null,
   "metadata": {},
   "outputs": [],
   "source": [
    "def three_well(x,y):\n",
    "    return ((3.0*np.exp(-x**2-(y-1.0/3.0)**2) - 3.0*np.exp(-x**2-(y-5.0/3.0)**2) \n",
    "             - 5.0*np.exp(-(x-1)**2-y**2)-5.0*np.exp(-(x+1)**2-y**2)+0.2*x**4+0.2*(y-1.0/3.0)**4))\n"
   ]
  },
  {
   "cell_type": "code",
   "execution_count": null,
   "metadata": {},
   "outputs": [],
   "source": [
    "xA = np.array([-1, 0])\n",
    "xB = np.array([1, 0])\n",
    "rA = 0.5\n",
    "rB = 0.5"
   ]
  },
  {
   "cell_type": "code",
   "execution_count": null,
   "metadata": {},
   "outputs": [],
   "source": [
    "xx = np.linspace(-2, 2,num=101)\n",
    "yy = np.linspace(-1.5,2.5,num=101)\n",
    "XX, YY = np.meshgrid(xx,yy)\n",
    "Vvals = three_well(XX,YY)\n",
    "plt.figure()\n",
    "ax = plt.gca()\n",
    "plt.contourf(XX,YY,Vvals,np.linspace(-4,8,num=51),cmap=plt.cm.RdBu_r, alpha = 0.75)\n",
    "circle_left = plt.Circle(xA, rA, color=\"r\", fill=False,lw=2,ls=\"--\")\n",
    "circle_right = plt.Circle(xB, rB, color=\"g\", fill=False,lw=2,ls=\"--\")\n",
    "ax.add_patch(circle_left)\n",
    "ax.add_patch(circle_right)\n",
    "\n",
    "cbar = plt.colorbar()\n",
    "cbar.set_label('$V(x,y)$')\n",
    "plt.xlabel('$x$')\n",
    "plt.ylabel('$y$')\n",
    "plt.show()"
   ]
  },
  {
   "cell_type": "markdown",
   "metadata": {},
   "source": [
    "# Construct Mesh"
   ]
  },
  {
   "cell_type": "code",
   "execution_count": null,
   "metadata": {},
   "outputs": [],
   "source": [
    "gmsh.initialize()"
   ]
  },
  {
   "cell_type": "code",
   "execution_count": null,
   "metadata": {},
   "outputs": [],
   "source": [
    "box = gmsh.model.occ.addRectangle(-3,-2,0,6,5)\n",
    "hole_left = gmsh.model.occ.addDisk(xA[0],xA[1],0,rA, rA)\n",
    "hole_right = gmsh.model.occ.addDisk(xB[0],xB[1],0,rB, rB)"
   ]
  },
  {
   "cell_type": "code",
   "execution_count": null,
   "metadata": {},
   "outputs": [],
   "source": [
    "gmsh.model.occ.cut([(2, box)], [(2, hole_left)])\n",
    "gmsh.model.occ.cut([(2, box)], [(2, hole_right)])"
   ]
  },
  {
   "cell_type": "code",
   "execution_count": null,
   "metadata": {},
   "outputs": [],
   "source": [
    "gmsh.model.occ.synchronize()"
   ]
  },
  {
   "cell_type": "code",
   "execution_count": null,
   "metadata": {},
   "outputs": [],
   "source": [
    "volumes = gmsh.model.getEntities(dim=2)\n",
    "gdim = 2\n",
    "gmsh.model.addPhysicalGroup(volumes[0][0], [volumes[0][1]], 1)\n",
    "gmsh.option.setNumber(\"Mesh.CharacteristicLengthMin\", 0.05)\n",
    "gmsh.option.setNumber(\"Mesh.CharacteristicLengthMax\", 0.1)\n",
    "gmsh.model.mesh.generate(2)"
   ]
  },
  {
   "cell_type": "markdown",
   "metadata": {},
   "source": [
    "## Inspect Mesh"
   ]
  },
  {
   "cell_type": "code",
   "execution_count": null,
   "metadata": {},
   "outputs": [],
   "source": [
    "gmsh_model_rank = 0\n",
    "mesh_comm = MPI.COMM_WORLD\n",
    "domain, cell_markers, facet_markers = gmshio.model_to_mesh(gmsh.model, \n",
    "                                                           mesh_comm, \n",
    "                                                           gmsh_model_rank, gdim=gdim)"
   ]
  },
  {
   "cell_type": "code",
   "execution_count": null,
   "metadata": {},
   "outputs": [],
   "source": [
    "gmsh.clear()"
   ]
  },
  {
   "cell_type": "code",
   "execution_count": null,
   "metadata": {},
   "outputs": [],
   "source": [
    "\n",
    "V = fem.FunctionSpace(domain, (\"Lagrange\", 1))\n",
    "topology, cell_types, x = vtk_mesh(V)"
   ]
  },
  {
   "cell_type": "code",
   "execution_count": null,
   "metadata": {},
   "outputs": [],
   "source": [
    "grid = pyvista.UnstructuredGrid(topology, cell_types, x)\n",
    "plotter = pyvista.Plotter()\n",
    "plotter.add_mesh(grid, show_edges=True)\n",
    "plotter.view_xy()\n",
    "plotter.show()"
   ]
  },
  {
   "cell_type": "markdown",
   "metadata": {},
   "source": [
    "# Set up FEM Problem and Solve"
   ]
  },
  {
   "cell_type": "code",
   "execution_count": null,
   "metadata": {},
   "outputs": [],
   "source": [
    "β  = 6.67\n",
    "\n",
    "def μ(x):\n",
    "    return np.exp(-β*three_well(x[0],x[1]))"
   ]
  },
  {
   "cell_type": "markdown",
   "metadata": {},
   "source": [
    "## Set up Boundary Conditions"
   ]
  },
  {
   "cell_type": "code",
   "execution_count": null,
   "metadata": {},
   "outputs": [],
   "source": [
    "def on_boundary_left(x):\n",
    "    return np.isclose((x[0]-xA[0])**2 + (x[1]-xA[1])**2, rA**2)\n",
    "\n",
    "def on_boundary_right(x):\n",
    "    return np.isclose((x[0]-xB[0])**2 + (x[1]-xB[1])**2, rB**2)\n",
    "\n",
    "boundary_left_dofs = fem.locate_dofs_geometrical(V, on_boundary_left)\n",
    "boundary_right_dofs = fem.locate_dofs_geometrical(V, on_boundary_right)\n",
    "\n",
    "bc_left = fem.dirichletbc(value=default_scalar_type(0.), dofs=boundary_left_dofs, V=V)\n",
    "bc_right = fem.dirichletbc(value=default_scalar_type(1.), dofs=boundary_right_dofs, V=V)"
   ]
  },
  {
   "cell_type": "markdown",
   "metadata": {},
   "source": [
    "## Set up Weak Form and Solve"
   ]
  },
  {
   "cell_type": "code",
   "execution_count": null,
   "metadata": {},
   "outputs": [],
   "source": [
    "u = ufl.TrialFunction(V)\n",
    "v = ufl.TestFunction(V)\n",
    "\n",
    "μ_fem = fem.Function(V)\n",
    "μ_fem.interpolate(μ)"
   ]
  },
  {
   "cell_type": "code",
   "execution_count": null,
   "metadata": {},
   "outputs": [],
   "source": [
    "f = fem.Constant(domain, default_scalar_type(0.0))\n",
    "a = ufl.inner( ufl.grad(u), ufl.grad(v)) *μ_fem* ufl.dx\n",
    "L = f * v * ufl.dx"
   ]
  },
  {
   "cell_type": "code",
   "execution_count": null,
   "metadata": {},
   "outputs": [],
   "source": [
    "solver_opts={\"ksp_type\": \"gmres\", \"pc_type\": \"gamg\",\"ksp_monitor\": \"\", \"ksp_rtol\":1e-8}"
   ]
  },
  {
   "cell_type": "code",
   "execution_count": null,
   "metadata": {},
   "outputs": [],
   "source": [
    "problem = LinearProblem(a, L, bcs=[bc_left, bc_right],petsc_options=solver_opts)\n"
   ]
  },
  {
   "cell_type": "code",
   "execution_count": null,
   "metadata": {},
   "outputs": [],
   "source": [
    "uh = problem.solve()"
   ]
  },
  {
   "cell_type": "markdown",
   "metadata": {},
   "source": [
    "Check solver performance"
   ]
  },
  {
   "cell_type": "code",
   "execution_count": null,
   "metadata": {},
   "outputs": [],
   "source": [
    "solver = problem.solver\n",
    "\n",
    "solver.getIterationNumber()"
   ]
  },
  {
   "cell_type": "code",
   "execution_count": null,
   "metadata": {},
   "outputs": [],
   "source": [
    "solver.getConvergedReason()"
   ]
  },
  {
   "cell_type": "markdown",
   "metadata": {},
   "source": [
    "Check condition number, if desired"
   ]
  },
  {
   "cell_type": "code",
   "execution_count": null,
   "metadata": {},
   "outputs": [],
   "source": [
    "A_csr = problem.A.getValuesCSR()\n",
    "A_sparse = scipy.sparse.csr_array((A_csr[2], A_csr[1], A_csr[0]))\n",
    "A_sparse.shape"
   ]
  },
  {
   "cell_type": "code",
   "execution_count": null,
   "metadata": {},
   "outputs": [],
   "source": [
    "σs = scipy.sparse.linalg.svds(A_sparse, k=507, return_singular_vectors=False)"
   ]
  },
  {
   "cell_type": "code",
   "execution_count": null,
   "metadata": {},
   "outputs": [],
   "source": [
    "σs[-1]/σs[0]"
   ]
  },
  {
   "cell_type": "markdown",
   "metadata": {},
   "source": [
    "## Check Solution"
   ]
  },
  {
   "cell_type": "code",
   "execution_count": null,
   "metadata": {},
   "outputs": [],
   "source": [
    "pyvista.start_xvfb()\n",
    "u_topology, u_cell_types, u_geometry = vtk_mesh(V)\n",
    "u_grid = pyvista.UnstructuredGrid(u_topology, u_cell_types, u_geometry)\n",
    "u_grid.point_data[\"u\"] = uh.x.array.real\n",
    "u_grid.set_active_scalars(\"u\")\n",
    "u_plotter = pyvista.Plotter()\n",
    "u_plotter.add_mesh(u_grid, show_edges=False)\n",
    "u_plotter.view_xy()\n",
    "u_plotter.show()"
   ]
  },
  {
   "cell_type": "code",
   "execution_count": null,
   "metadata": {},
   "outputs": [],
   "source": [
    "warped = u_grid.warp_by_scalar()\n",
    "plotter = pyvista.Plotter()\n",
    "plotter.add_mesh(warped, show_edges=True, show_scalar_bar=True)\n",
    "plotter.show()\n"
   ]
  },
  {
   "cell_type": "markdown",
   "metadata": {},
   "source": [
    "# Dump to disk"
   ]
  },
  {
   "cell_type": "markdown",
   "metadata": {},
   "source": [
    "## On Regular Mesh"
   ]
  },
  {
   "cell_type": "code",
   "execution_count": null,
   "metadata": {},
   "outputs": [],
   "source": [
    "tol = 0.  # Avoid hitting the outside of the domain\n",
    "\n",
    "x = np.linspace(-2 + tol, 2 - tol, 201)\n",
    "y = np.linspace(-1.5 + tol, 2.5 - tol, 401)\n",
    "\n",
    "points = np.zeros((3, 0))\n",
    "points_notinAB = np.zeros((3, 0))\n",
    "points_inAB = np.zeros((3, 0))\n",
    "def notinAB(X):\n",
    "    return ((X[0] - xA[0])**2 + (X[1] - xA[1])**2 > rA**2 ) and ((X[0] - xB[0])**2 + (X[1] - xB[1])**2 > rB**2 )\n",
    "\n",
    "inABidx =np.array([],dtype=int)\n",
    "notinABidx =np.array([],dtype=int)\n",
    "i = 0\n",
    "\n",
    "for y_ in y:\n",
    "    for x_ in x:\n",
    "        if notinAB([x_, y_]):\n",
    "            notinABidx = np.append(notinABidx, i)\n",
    "            points_notinAB = np.concatenate((points_notinAB, np.array([[x_,y_,0.]]).T),axis=1)\n",
    "        else:\n",
    "            inABidx = np.append(inABidx, i)\n",
    "            points_inAB = np.concatenate((points_inAB, np.array([[x_,y_,0.]]).T),axis=1)\n",
    "        i+=1\n",
    "        points = np.concatenate((points, np.array([[x_,y_,0.]]).T),axis=1)\n",
    "\n",
    "u_values = []"
   ]
  },
  {
   "cell_type": "code",
   "execution_count": null,
   "metadata": {},
   "outputs": [],
   "source": [
    "print(len(notinABidx))\n",
    "print(len(inABidx))\n",
    "print(len(notinABidx)+len(inABidx))"
   ]
  },
  {
   "cell_type": "code",
   "execution_count": null,
   "metadata": {},
   "outputs": [],
   "source": [
    "plt.scatter(points_notinAB[0], points_notinAB[1])\n",
    "plt.scatter(points_inAB[0], points_inAB[1])\n",
    "plt.show()"
   ]
  },
  {
   "cell_type": "code",
   "execution_count": null,
   "metadata": {},
   "outputs": [],
   "source": [
    "bb_tree = geometry.bb_tree(domain, domain.topology.dim)"
   ]
  },
  {
   "cell_type": "code",
   "execution_count": null,
   "metadata": {},
   "outputs": [],
   "source": [
    "cells = []\n",
    "points_on_proc = []\n",
    "# Find cells whose bounding-box collide with the the points\n",
    "cell_candidates = geometry.compute_collisions_points(bb_tree, points_notinAB.T)\n",
    "# Choose one of the cells that contains the point\n",
    "colliding_cells = geometry.compute_colliding_cells(domain, cell_candidates, points_notinAB.T)\n",
    "for i, point in enumerate(points_notinAB.T):\n",
    "    if len(colliding_cells.links(i)) > 0:\n",
    "        points_on_proc.append(point)\n",
    "        cells.append(colliding_cells.links(i)[0])"
   ]
  },
  {
   "cell_type": "code",
   "execution_count": null,
   "metadata": {},
   "outputs": [],
   "source": [
    "len(cells)"
   ]
  },
  {
   "cell_type": "code",
   "execution_count": null,
   "metadata": {},
   "outputs": [],
   "source": [
    "points_on_proc = np.array(points_on_proc, dtype=np.float64)\n",
    "u_values = uh.eval(points_on_proc, cells)"
   ]
  },
  {
   "cell_type": "code",
   "execution_count": null,
   "metadata": {},
   "outputs": [],
   "source": [
    "len(u_values)\n",
    "u_values.size"
   ]
  },
  {
   "cell_type": "code",
   "execution_count": null,
   "metadata": {},
   "outputs": [],
   "source": [
    "print(points_notinAB[0].shape)\n",
    "print(points_notinAB[1].shape)\n",
    "print(u_values.flatten().shape)"
   ]
  },
  {
   "cell_type": "code",
   "execution_count": null,
   "metadata": {},
   "outputs": [],
   "source": [
    "fig, ax = plt.subplots(subplot_kw={'projection': '3d'})\n",
    "ax.plot_trisurf(points_notinAB[0], points_notinAB[1], u_values.flatten())\n",
    "plt.show()\n",
    "\n"
   ]
  },
  {
   "cell_type": "code",
   "execution_count": null,
   "metadata": {},
   "outputs": [],
   "source": [
    "u_pad = np.zeros(x.shape[0] * y.shape[0])\n",
    "u_pad[notinABidx] = u_values.flatten()\n",
    "u_pad[inABidx] = np.NaN"
   ]
  },
  {
   "cell_type": "code",
   "execution_count": null,
   "metadata": {},
   "outputs": [],
   "source": [
    "len(u_pad)"
   ]
  },
  {
   "cell_type": "code",
   "execution_count": null,
   "metadata": {},
   "outputs": [],
   "source": [
    "matlab_data = {\"x\":x, \"y\":y, \"u\":u_pad.flatten(), \"beta\":β}\n",
    "scipy.io.savemat(\"committor_beta{beta}_n{n}.mat\".format(beta=β, n=len(u_pad)), matlab_data)"
   ]
  },
  {
   "cell_type": "code",
   "execution_count": null,
   "metadata": {},
   "outputs": [],
   "source": [
    "filename = \"committor_beta{beta}_n{n}.npz\".format(beta = β, n = u_values.size)\n",
    "print(filename)\n",
    "np.savez(filename, u = u_values.flatten(), xx=x, yy=y,\n",
    "         x = points[0], y = points[1], \n",
    "         x_inAB = points_inAB[0], y_inAB = points_inAB[1],\n",
    "         x_notinAB = points_notinAB[0], y_notinAB = points_notinAB[1],\n",
    "         notinABidx = notinABidx, inABidx = inABidx)"
   ]
  },
  {
   "cell_type": "markdown",
   "metadata": {},
   "source": [
    "## Dump Nodal Data"
   ]
  },
  {
   "cell_type": "code",
   "execution_count": null,
   "metadata": {},
   "outputs": [],
   "source": [
    "uh.function_space.tabulate_dof_coordinates().shape"
   ]
  },
  {
   "cell_type": "code",
   "execution_count": null,
   "metadata": {},
   "outputs": [],
   "source": [
    "uh.vector[:].size"
   ]
  },
  {
   "cell_type": "code",
   "execution_count": null,
   "metadata": {},
   "outputs": [],
   "source": [
    "matlab_data = {\"xyz\": uh.function_space.tabulate_dof_coordinates(), \"u\": uh.vector[:], \"beta\":β}"
   ]
  },
  {
   "cell_type": "code",
   "execution_count": null,
   "metadata": {},
   "outputs": [],
   "source": [
    "scipy.io.savemat(\"committor_beta{beta}.mat\".format(beta=β), matlab_data)"
   ]
  }
 ],
 "metadata": {
  "kernelspec": {
   "display_name": "base",
   "language": "python",
   "name": "python3"
  },
  "language_info": {
   "codemirror_mode": {
    "name": "ipython",
    "version": 3
   },
   "file_extension": ".py",
   "mimetype": "text/x-python",
   "name": "python",
   "nbconvert_exporter": "python",
   "pygments_lexer": "ipython3",
   "version": "3.11.6"
  }
 },
 "nbformat": 4,
 "nbformat_minor": 2
}
